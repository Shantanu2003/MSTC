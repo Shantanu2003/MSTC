{
 "cells": [
  {
   "cell_type": "code",
   "execution_count": 3,
   "id": "14955e83",
   "metadata": {},
   "outputs": [],
   "source": [
    "import PySimpleGUI as sg\n",
    "import pandas as pd\n",
    "\n",
    "# Add some color to the window\n",
    "sg.theme('DarkTeal9')\n",
    "\n",
    "EXCEL_FILE = 'Data.csv'\n",
    "df = pd.read_csv(EXCEL_FILE)\n",
    "\n",
    "layout = [\n",
    "    [sg.Text('Please fill out the following fields:')],\n",
    "    [sg.Text('Enter the sentence', size=(15,1)), sg.InputText(key='Input')],\n",
    "        [sg.Submit(), sg.Button('Clear'), sg.Exit()]\n",
    "\n",
    "]\n",
    "\n",
    "window = sg.Window('Language Detection', layout)\n",
    "\n",
    "def clear_input():\n",
    "    for key in values:\n",
    "        window[key]('')\n",
    "    return None\n",
    "\n",
    "while True:\n",
    "    event, values = window.read()\n",
    "    if event == sg.WIN_CLOSED or event == 'Exit':\n",
    "        break\n",
    "    if event == 'Clear':\n",
    "        clear_input()\n",
    "    if event == 'Submit':\n",
    "        df = df.append(values, ignore_index=True)\n",
    "        df.to_csv(EXCEL_FILE, index=False)\n",
    "        sg.popup('Data saved!')\n",
    "        clear_input()\n",
    "window.close()"
   ]
  },
  {
   "cell_type": "code",
   "execution_count": 4,
   "id": "663f9a45",
   "metadata": {},
   "outputs": [
    {
     "name": "stdout",
     "output_type": "stream",
     "text": [
      "                  Input\n",
      "0  ¿¿Hola como estas??|\n"
     ]
    }
   ],
   "source": [
    "data=pd.read_csv('Data.csv')\n",
    "print(data)"
   ]
  },
  {
   "cell_type": "code",
   "execution_count": 5,
   "id": "f2ae34e4",
   "metadata": {},
   "outputs": [],
   "source": [
    "import csv\n",
    "\n",
    "csv_file = 'Data.csv'\n",
    "txt_file = 'Test.txt'\n",
    "with open(txt_file, \"w\") as my_output_file:\n",
    "    with open(csv_file, \"r\") as my_input_file:\n",
    "        reader = csv.reader(my_input_file)\n",
    "        [ my_output_file.write(\"|\".join(row+[''])+'\\n') for row in csv.reader(my_input_file)]\n"
   ]
  },
  {
   "cell_type": "code",
   "execution_count": 7,
   "id": "340a7724",
   "metadata": {},
   "outputs": [
    {
     "name": "stdout",
     "output_type": "stream",
     "text": [
      "Input|\n",
      "Â¿Â¿Hola como estas??||\n",
      "\n"
     ]
    }
   ],
   "source": [
    "with open(\"Test.txt\", \"r\") as file:\n",
    "    data = str(file.read())\n",
    "\n",
    "print(data)"
   ]
  },
  {
   "cell_type": "code",
   "execution_count": 8,
   "id": "5275344f",
   "metadata": {},
   "outputs": [
    {
     "name": "stdout",
     "output_type": "stream",
     "text": [
      "Input|\n",
      " Â¿Â¿Hola como estas??||\n",
      "\n"
     ]
    }
   ],
   "source": [
    "with open(\"Test.txt\", \"r\") as f:\n",
    " data = f.readlines()\n",
    " content = \" \".join(data)\n",
    " print(content)"
   ]
  },
  {
   "cell_type": "code",
   "execution_count": 9,
   "id": "fc1ec8f6",
   "metadata": {},
   "outputs": [
    {
     "name": "stdout",
     "output_type": "stream",
     "text": [
      "[es:0.9999945685648207]\n"
     ]
    }
   ],
   "source": [
    "from langdetect import detect_langs\n",
    "\n",
    "from langdetect import DetectorFactory\n",
    "DetectorFactory.seed = 0\n",
    "print(detect_langs(content))"
   ]
  },
  {
   "cell_type": "code",
   "execution_count": 10,
   "id": "5b4c408c",
   "metadata": {},
   "outputs": [
    {
     "name": "stdout",
     "output_type": "stream",
     "text": [
      "<class 'str'>\n"
     ]
    }
   ],
   "source": [
    "print(type(content))"
   ]
  },
  {
   "cell_type": "code",
   "execution_count": 11,
   "id": "2a49b83d",
   "metadata": {},
   "outputs": [
    {
     "name": "stdout",
     "output_type": "stream",
     "text": [
      "Input|\n",
      " Hello how are you??||\n"
     ]
    }
   ],
   "source": [
    "from deep_translator import GoogleTranslator\n",
    "translated = GoogleTranslator(source='auto', target='en').translate(content)\n",
    "print(translated)"
   ]
  },
  {
   "cell_type": "code",
   "execution_count": 12,
   "id": "8c07a0f6",
   "metadata": {},
   "outputs": [
    {
     "name": "stdout",
     "output_type": "stream",
     "text": [
      "इनपुट|\n",
      " नमस्ते कैसे हो??||\n"
     ]
    }
   ],
   "source": [
    "translated1 = GoogleTranslator(source='auto', target='hi').translate(translated)\n",
    "print(translated1)"
   ]
  },
  {
   "cell_type": "code",
   "execution_count": 13,
   "id": "6d417b6e",
   "metadata": {},
   "outputs": [
    {
     "data": {
      "text/plain": [
       "1"
      ]
     },
     "execution_count": 13,
     "metadata": {},
     "output_type": "execute_result"
    }
   ],
   "source": [
    "from gtts import gTTS\n",
    "  \n",
    "\n",
    "import os\n",
    "  \n",
    "mytext = translated\n",
    "  \n",
    "language = 'en'\n",
    "  \n",
    "\n",
    "myobj = gTTS(text=mytext, lang=language, slow=False)\n",
    "  \n",
    "\n",
    "myobj.save(\"Speech.mp3\")\n",
    "  \n",
    "os.system(\"mpg321 Speech.mp3\")"
   ]
  },
  {
   "cell_type": "code",
   "execution_count": 32,
   "id": "9b4aa4d0",
   "metadata": {},
   "outputs": [],
   "source": [
    "import csv\n",
    "file=open('Data1.csv','a',newline='')\n",
    "writer=csv.writer(file)\n",
    "writer.writerows(translated)\n",
    "file.close()"
   ]
  },
  {
   "cell_type": "code",
   "execution_count": 33,
   "id": "150ccd82",
   "metadata": {},
   "outputs": [],
   "source": [
    "file1=open('Data2.csv','a',newline='',encoding=\"utf-8\")\n",
    "writer=csv.writer(file1)\n",
    "writer.writerows(translated1)\n",
    "file.close()"
   ]
  },
  {
   "cell_type": "code",
   "execution_count": null,
   "id": "ad0e0153",
   "metadata": {},
   "outputs": [],
   "source": []
  }
 ],
 "metadata": {
  "kernelspec": {
   "display_name": "Python 3 (ipykernel)",
   "language": "python",
   "name": "python3"
  },
  "language_info": {
   "codemirror_mode": {
    "name": "ipython",
    "version": 3
   },
   "file_extension": ".py",
   "mimetype": "text/x-python",
   "name": "python",
   "nbconvert_exporter": "python",
   "pygments_lexer": "ipython3",
   "version": "3.9.7"
  }
 },
 "nbformat": 4,
 "nbformat_minor": 5
}
